{
 "cells": [
  {
   "cell_type": "code",
   "execution_count": 1,
   "metadata": {},
   "outputs": [
    {
     "ename": "NameError",
     "evalue": "name 'done' is not defined",
     "output_type": "error",
     "traceback": [
      "\u001b[0;31m---------------------------------------------------------------------------\u001b[0m",
      "\u001b[0;31mNameError\u001b[0m                                 Traceback (most recent call last)",
      "\u001b[0;32m<ipython-input-1-6f3160927c74>\u001b[0m in \u001b[0;36m<module>\u001b[0;34m\u001b[0m\n\u001b[1;32m     25\u001b[0m \u001b[0;34m\u001b[0m\u001b[0m\n\u001b[1;32m     26\u001b[0m \u001b[0mkp\u001b[0m\u001b[0;34m(\u001b[0m\u001b[0;36m3\u001b[0m\u001b[0;34m)\u001b[0m\u001b[0;34m\u001b[0m\u001b[0;34m\u001b[0m\u001b[0m\n\u001b[0;32m---> 27\u001b[0;31m \u001b[0mdone\u001b[0m\u001b[0;34m(\u001b[0m\u001b[0;34m)\u001b[0m\u001b[0;34m\u001b[0m\u001b[0;34m\u001b[0m\u001b[0m\n\u001b[0m",
      "\u001b[0;31mNameError\u001b[0m: name 'done' is not defined"
     ]
    }
   ],
   "source": [
    "import turtle\n",
    "turtle.penup()\n",
    "turtle.goto(-200,-100)\n",
    "turtle.color('chartreuse')\n",
    "turtle.down()\n",
    "l=10\n",
    "def kp(n):\n",
    "    if n==1: \n",
    "        turtle.forward(l/n)\n",
    "        turtle.left(60)\n",
    "        turtle.forward(l/n)\n",
    "        turtle.right(120)\n",
    "        turtle.forward(l/n)\n",
    "        turtle.left(60)\n",
    "        turtle.forward(l/n)\n",
    "    else:\n",
    "        kp(n-1)\n",
    "        turtle.left(60)\n",
    "        kp(n-1)\n",
    "        turtle.right(120)\n",
    "        kp(n-1)\n",
    "        turtle.left(60)\n",
    "        kp(n-1)\n",
    "turtle.speed(100)\n",
    "    \n",
    "kp(3)\n",
    "done()"
   ]
  },
  {
   "cell_type": "code",
   "execution_count": 4,
   "metadata": {},
   "outputs": [
    {
     "ename": "NameError",
     "evalue": "name 'done' is not defined",
     "output_type": "error",
     "traceback": [
      "\u001b[0;31m---------------------------------------------------------------------------\u001b[0m",
      "\u001b[0;31mNameError\u001b[0m                                 Traceback (most recent call last)",
      "\u001b[0;32m<ipython-input-4-0fb9a12876c8>\u001b[0m in \u001b[0;36m<module>\u001b[0;34m\u001b[0m\n\u001b[1;32m     25\u001b[0m \u001b[0mturtle\u001b[0m\u001b[0;34m.\u001b[0m\u001b[0mspeed\u001b[0m\u001b[0;34m(\u001b[0m\u001b[0;36m0\u001b[0m\u001b[0;34m)\u001b[0m\u001b[0;34m\u001b[0m\u001b[0;34m\u001b[0m\u001b[0m\n\u001b[1;32m     26\u001b[0m \u001b[0mp\u001b[0m\u001b[0;34m(\u001b[0m\u001b[0;36m5\u001b[0m\u001b[0;34m,\u001b[0m\u001b[0;36m1000\u001b[0m\u001b[0;34m)\u001b[0m\u001b[0;34m\u001b[0m\u001b[0;34m\u001b[0m\u001b[0m\n\u001b[0;32m---> 27\u001b[0;31m \u001b[0mdone\u001b[0m\u001b[0;34m(\u001b[0m\u001b[0;34m)\u001b[0m\u001b[0;34m\u001b[0m\u001b[0;34m\u001b[0m\u001b[0m\n\u001b[0m",
      "\u001b[0;31mNameError\u001b[0m: name 'done' is not defined"
     ]
    }
   ],
   "source": [
    "import turtle\n",
    "turtle.penup()\n",
    "turtle.goto(-500,-350)\n",
    "turtle.color('coral')\n",
    "turtle.down()\n",
    "turtle.left(180)\n",
    "\n",
    "def p(n,l):\n",
    "    if n==1:\n",
    "        for i in range(3):\n",
    "            turtle.right(120)\n",
    "            turtle.forward(l)\n",
    "    else:\n",
    "        p(n-1,l/2)\n",
    "        turtle.backward(l/2)\n",
    "        p(n-1,l/2)\n",
    "        turtle.right(60)\n",
    "        turtle.forward(l/2)\n",
    "        turtle.left(60)\n",
    "        p(n-1,l/2)\n",
    "        turtle.left(60)\n",
    "        turtle.forward(l/2)\n",
    "        turtle.right(60)\n",
    "\n",
    "turtle.speed(0)\n",
    "p(5,1000)        \n",
    "done()"
   ]
  },
  {
   "cell_type": "code",
   "execution_count": 1,
   "metadata": {},
   "outputs": [],
   "source": [
    "import turtle\n",
    "def k(l):\n",
    "    for i in range(3):\n",
    "        turtle.forward(l)\n",
    "        turtle.right(90)\n",
    "    turtle.forward(l)\n",
    "def kvad(n,l):\n",
    "    if n==1:\n",
    "        k(l)\n",
    "        turtle.right(180)\n",
    "        turtle.forward(l)\n",
    "        k(l/2)\n",
    "        turtle.forward(l)\n",
    "        k(l/2)\n",
    "        turtle.forward(l)\n",
    "        k(l/2)\n",
    "    else:\n",
    "        k(l)\n",
    "        turtle.right(180)\n",
    "        turtle.forward(l)\n",
    "        kvad(n-1,l/2)\n",
    "        turtle.forward(l/2)\n",
    "        turtle.right(90)\n",
    "        turtle.forward(l)\n",
    "        kvad(n-1,l/2)\n",
    "        turtle.forward(l/2)\n",
    "        turtle.right(90)\n",
    "        turtle.forward(l)\n",
    "        kvad(n-1,l/2)\n",
    "        \n",
    "kvad(1,100)"
   ]
  },
  {
   "cell_type": "code",
   "execution_count": 1,
   "metadata": {},
   "outputs": [],
   "source": [
    "import json\n",
    "\n",
    "class Person(object):\n",
    "   def __init__(self, first_name = None, last_name = None):\n",
    "      self.first_name = first_name\n",
    "      self.last_name = last_name\n",
    "   #returns Person name, ex: John Doe\n",
    "   def name(self):\n",
    "      return (\"%s %s\" % (self.first_name,self.last_name))\n",
    "\t\t\n",
    "   @classmethod\n",
    "   #returns all people inside db.txt as list of Person objects\n",
    "   def getAll(self):\n",
    "      database = open('db.txt', 'r')\n",
    "      result = []\n",
    "      json_list = json.loads(database.read())\n",
    "      for item in json_list:\n",
    "         item = json.loads(item)\n",
    "         person = Person(item['first_name'], item['last_name'])\n",
    "         result.append(person)\n",
    "      return result"
   ]
  },
  {
   "cell_type": "code",
   "execution_count": null,
   "metadata": {},
   "outputs": [],
   "source": [
    "from model import Person\n",
    "def showAllView(list):\n",
    "   print ('In our db we have %i users. Here they are:' % len(list))\n",
    "   for item in list:\n",
    "      print item.name()\n",
    "def startView():\n",
    "   print 'MVC - the simplest example'\n",
    "   print 'Do you want to see everyone in my db?[y/n]'\n",
    "def endView():\n",
    "   print 'Goodbye!'"
   ]
  },
  {
   "cell_type": "code",
   "execution_count": null,
   "metadata": {},
   "outputs": [],
   "source": [
    "from model import Person\n",
    "import view\n",
    "\n",
    "def showAll():\n",
    "   #gets list of all Person objects\n",
    "   people_in_db = Person.getAll()\n",
    "   #calls view\n",
    "   return view.showAllView(people_in_db)\n",
    "\n",
    "def start():\n",
    "   view.startView()\n",
    "   input = raw_input()\n",
    "   if input == 'y':\n",
    "      return showAll()\n",
    "   else:\n",
    "      return view.endView()\n",
    "\n",
    "if __name__ == \"__main__\":\n",
    "   #running controller function\n",
    "   start()"
   ]
  }
 ],
 "metadata": {
  "kernelspec": {
   "display_name": "Python 3",
   "language": "python",
   "name": "python3"
  },
  "language_info": {
   "codemirror_mode": {
    "name": "ipython",
    "version": 3
   },
   "file_extension": ".py",
   "mimetype": "text/x-python",
   "name": "python",
   "nbconvert_exporter": "python",
   "pygments_lexer": "ipython3",
   "version": "3.8.3"
  }
 },
 "nbformat": 4,
 "nbformat_minor": 4
}
